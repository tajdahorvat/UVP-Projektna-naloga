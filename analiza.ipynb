{
 "cells": [
  {
   "cell_type": "markdown",
   "id": "fc713e77",
   "metadata": {},
   "source": [
    "# Analiza rezultatov 44. maratona Franja\n",
    "Ta zvezek vsebuje analizo podatkov o rezultatih vseh moških na 44.maratonu Franja leta 2025, pridobljenih s pomočjo skripte v mapi xxxx.\n",
    "\n",
    "Analizirala sem:\n",
    "- iz klubov, ki so imeli vsaj tri predstavnike, sem določila najboljše tri in seštela njihove čase\n",
    "- razporeditev tekmovalcev po državah in najhitrejša država po povprečju\n",
    "- histogram glede na čase z označenim povprečnim časom vseh tekmovalcev, ki so zaključili maraton\n",
    "- kolko pocentov slovencev predstavlja nek klub klub\n",
    "- klub z največ državami\n",
    "\n",
    "\n"
   ]
  },
  {
   "cell_type": "code",
   "execution_count": 1,
   "id": "6f4aae44",
   "metadata": {},
   "outputs": [],
   "source": [
    "from zajem_podatkov import main\n",
    "import pandas as pd\n",
    "import matplotlib.pyplot as plt"
   ]
  },
  {
   "cell_type": "code",
   "execution_count": 2,
   "id": "7c0b33cf",
   "metadata": {},
   "outputs": [],
   "source": [
    "# Če podatko še niso zajeti, odkomentiraj spodnji klic funkcije.\n",
    "# main()"
   ]
  },
  {
   "cell_type": "markdown",
   "id": "3fa1bbe8",
   "metadata": {},
   "source": [
    "Najprej bomo za lažjo izvedbo analize v tabelo dodali še en stolpec, v katerega bomo zapisali rezultate tekmovalce v sekundah."
   ]
  },
  {
   "cell_type": "code",
   "execution_count": 3,
   "id": "0452a810",
   "metadata": {},
   "outputs": [],
   "source": [
    "def cas_v_sekunde(rezultat):\n",
    "    cas = rezultat.split(\":\")\n",
    "    sekunde = int(cas[0]) * 60 * 60 + int(cas[1]) * 60 + float(cas[2])\n",
    "    return sekunde "
   ]
  },
  {
   "cell_type": "code",
   "execution_count": 4,
   "id": "9c36466f",
   "metadata": {},
   "outputs": [],
   "source": [
    "podatki = pd.read_csv(\"podatki/rezultati.csv\")\n",
    "podatki[\"Sekunde\"] = podatki[\"rezultat\"].apply(cas_v_sekunde)"
   ]
  },
  {
   "cell_type": "markdown",
   "id": "40f3aaec",
   "metadata": {},
   "source": [
    "## Analiza rezultatov\n",
    "Na začetku bomo analizirali rezultate tekmovalcev. Najprej bomo izdelali tabelo prvih desetih tekmovalcev, zadnjih petih tekmovalcev in njihovih časov. Nato pa bomo iz vseh rezultatov izračunali povprečen čas. S pomočjo črtnega diagrama bomo prikazali čase vseh tekmovalcev, ki so do konca pretekli maraton. Na diagramu bomo označili tudi povprečen čas, saj bomo tako lahko primerjali čase sodelujočih in povprečen čas."
   ]
  },
  {
   "cell_type": "code",
   "execution_count": 5,
   "id": "d9f398a5",
   "metadata": {},
   "outputs": [
    {
     "data": {
      "text/html": [
       "<div>\n",
       "<style scoped>\n",
       "    .dataframe tbody tr th:only-of-type {\n",
       "        vertical-align: middle;\n",
       "    }\n",
       "\n",
       "    .dataframe tbody tr th {\n",
       "        vertical-align: top;\n",
       "    }\n",
       "\n",
       "    .dataframe thead th {\n",
       "        text-align: right;\n",
       "    }\n",
       "</style>\n",
       "<table border=\"1\" class=\"dataframe\">\n",
       "  <thead>\n",
       "    <tr style=\"text-align: right;\">\n",
       "      <th></th>\n",
       "      <th>uvrstitev</th>\n",
       "      <th>oseba</th>\n",
       "      <th>rezultat</th>\n",
       "    </tr>\n",
       "  </thead>\n",
       "  <tbody>\n",
       "    <tr>\n",
       "      <th>0</th>\n",
       "      <td>1</td>\n",
       "      <td>ZANETTI IGOR</td>\n",
       "      <td>3:34:45.8</td>\n",
       "    </tr>\n",
       "    <tr>\n",
       "      <th>1</th>\n",
       "      <td>2</td>\n",
       "      <td>POZZETTO FEDERICO</td>\n",
       "      <td>3:34:46.0</td>\n",
       "    </tr>\n",
       "    <tr>\n",
       "      <th>2</th>\n",
       "      <td>3</td>\n",
       "      <td>GROŠELJ MATIC</td>\n",
       "      <td>3:34:46.2</td>\n",
       "    </tr>\n",
       "    <tr>\n",
       "      <th>3</th>\n",
       "      <td>4</td>\n",
       "      <td>EMERŠIČ MARKO</td>\n",
       "      <td>3:34:46.6</td>\n",
       "    </tr>\n",
       "    <tr>\n",
       "      <th>4</th>\n",
       "      <td>5</td>\n",
       "      <td>MIKAC PATRIK</td>\n",
       "      <td>3:34:46.8</td>\n",
       "    </tr>\n",
       "    <tr>\n",
       "      <th>5</th>\n",
       "      <td>6</td>\n",
       "      <td>GAVAZZI ALBERTO</td>\n",
       "      <td>3:34:47.0</td>\n",
       "    </tr>\n",
       "    <tr>\n",
       "      <th>6</th>\n",
       "      <td>7</td>\n",
       "      <td>RINALDI MARCO</td>\n",
       "      <td>3:34:47.1</td>\n",
       "    </tr>\n",
       "    <tr>\n",
       "      <th>7</th>\n",
       "      <td>7</td>\n",
       "      <td>MULEC OŽBEJ</td>\n",
       "      <td>3:34:47.1</td>\n",
       "    </tr>\n",
       "    <tr>\n",
       "      <th>8</th>\n",
       "      <td>9</td>\n",
       "      <td>LAZZARINI LUCA</td>\n",
       "      <td>3:34:47.3</td>\n",
       "    </tr>\n",
       "    <tr>\n",
       "      <th>9</th>\n",
       "      <td>10</td>\n",
       "      <td>ZANETTI ENRICO</td>\n",
       "      <td>3:34:47.8</td>\n",
       "    </tr>\n",
       "  </tbody>\n",
       "</table>\n",
       "</div>"
      ],
      "text/plain": [
       "   uvrstitev              oseba   rezultat\n",
       "0          1       ZANETTI IGOR  3:34:45.8\n",
       "1          2  POZZETTO FEDERICO  3:34:46.0\n",
       "2          3      GROŠELJ MATIC  3:34:46.2\n",
       "3          4      EMERŠIČ MARKO  3:34:46.6\n",
       "4          5       MIKAC PATRIK  3:34:46.8\n",
       "5          6    GAVAZZI ALBERTO  3:34:47.0\n",
       "6          7      RINALDI MARCO  3:34:47.1\n",
       "7          7        MULEC OŽBEJ  3:34:47.1\n",
       "8          9     LAZZARINI LUCA  3:34:47.3\n",
       "9         10     ZANETTI ENRICO  3:34:47.8"
      ]
     },
     "execution_count": 5,
     "metadata": {},
     "output_type": "execute_result"
    }
   ],
   "source": [
    "tekmovalci = podatki[\"uvrstitev\"]\n",
    "casi = podatki[\"Sekunde\"]\n",
    "povprecje = sum(casi)/1042\n",
    "podatki[[\"uvrstitev\", \"oseba\", \"rezultat\"]].head(10)"
   ]
  },
  {
   "cell_type": "code",
   "execution_count": 6,
   "id": "b14d7fab",
   "metadata": {},
   "outputs": [
    {
     "data": {
      "text/html": [
       "<div>\n",
       "<style scoped>\n",
       "    .dataframe tbody tr th:only-of-type {\n",
       "        vertical-align: middle;\n",
       "    }\n",
       "\n",
       "    .dataframe tbody tr th {\n",
       "        vertical-align: top;\n",
       "    }\n",
       "\n",
       "    .dataframe thead th {\n",
       "        text-align: right;\n",
       "    }\n",
       "</style>\n",
       "<table border=\"1\" class=\"dataframe\">\n",
       "  <thead>\n",
       "    <tr style=\"text-align: right;\">\n",
       "      <th></th>\n",
       "      <th>uvrstitev</th>\n",
       "      <th>oseba</th>\n",
       "      <th>rezultat</th>\n",
       "    </tr>\n",
       "  </thead>\n",
       "  <tbody>\n",
       "    <tr>\n",
       "      <th>1038</th>\n",
       "      <td>1039</td>\n",
       "      <td>ŠPRUK JANEZ</td>\n",
       "      <td>7:01:44.2</td>\n",
       "    </tr>\n",
       "    <tr>\n",
       "      <th>1039</th>\n",
       "      <td>1040</td>\n",
       "      <td>GARTNAR GAŠPER</td>\n",
       "      <td>7:03:07.8</td>\n",
       "    </tr>\n",
       "    <tr>\n",
       "      <th>1040</th>\n",
       "      <td>1041</td>\n",
       "      <td>FILIPIČ PETER</td>\n",
       "      <td>7:26:39.1</td>\n",
       "    </tr>\n",
       "    <tr>\n",
       "      <th>1041</th>\n",
       "      <td>1042</td>\n",
       "      <td>PUST ROMAN</td>\n",
       "      <td>7:26:45.5</td>\n",
       "    </tr>\n",
       "    <tr>\n",
       "      <th>1042</th>\n",
       "      <td>1043</td>\n",
       "      <td>ORHON ECVET</td>\n",
       "      <td>7:36:32.5</td>\n",
       "    </tr>\n",
       "  </tbody>\n",
       "</table>\n",
       "</div>"
      ],
      "text/plain": [
       "      uvrstitev           oseba   rezultat\n",
       "1038       1039     ŠPRUK JANEZ  7:01:44.2\n",
       "1039       1040  GARTNAR GAŠPER  7:03:07.8\n",
       "1040       1041   FILIPIČ PETER  7:26:39.1\n",
       "1041       1042      PUST ROMAN  7:26:45.5\n",
       "1042       1043     ORHON ECVET  7:36:32.5"
      ]
     },
     "execution_count": 6,
     "metadata": {},
     "output_type": "execute_result"
    }
   ],
   "source": [
    "podatki[[\"uvrstitev\", \"oseba\", \"rezultat\"]].tail(5)"
   ]
  },
  {
   "cell_type": "markdown",
   "id": "3295607f",
   "metadata": {},
   "source": [
    "Iz tabele lahko vidimo, da so prvi v cilj prišli skoraj istočasno, saj je med prvim in desetim mestom le dve sekundi razlike. Prav tako pa opazimo, da je med zadnjimi več razlike."
   ]
  },
  {
   "cell_type": "code",
   "execution_count": 7,
   "id": "69ef6666",
   "metadata": {},
   "outputs": [
    {
     "data": {
      "image/png": "[encoded data removed]",
      "text/plain": [
       "<Figure size 640x480 with 1 Axes>"
      ]
     },
     "metadata": {},
     "output_type": "display_data"
    }
   ],
   "source": [
    "plt.plot(tekmovalci, casi, color=\"blue\", linewidth=2, linestyle = \"-\")\n",
    "plt.axhline(y = povprecje, color = \"red\", linestyle = \"--\", linewidth=2)\n",
    "plt.ylabel(\"Časi v sekundah\")\n",
    "plt.xlabel(\"Uvrstitev\")\n",
    "plt.title(\"Prikaz časov tekmovalcev in povprečnega časa\")\n",
    "plt.grid(True)\n",
    "plt.show()"
   ]
  },
  {
   "cell_type": "markdown",
   "id": "3eaeb08c",
   "metadata": {},
   "source": [
    "Tudi na grafikonu se vidijo naša opažanja, saj je na začetko manj strm kot na koncu. Sama sem pričakovala, da bo črta s povprečjem nekoliko bolj na sredini, vendar se izkaže da je pod polovico."
   ]
  },
  {
   "cell_type": "markdown",
   "id": "a286d5e7",
   "metadata": {},
   "source": [
    "## Analiza glede na države\n",
    "Pri tej analizi bomo pogledali, katera država je imela največ predstavnikov in katera najmanj. Pričakujem, da bo največ tekmovalcev iz Slovenije, saj je tekmovanje potekalo v Sloveniji. Glede države z najmanj udeleženci pa težko napovemo katera bo, vendar sklepam, da bo kar nekaj držav, ki imajo samo enega predstavnika."
   ]
  },
  {
   "cell_type": "code",
   "execution_count": 8,
   "id": "70a605b8",
   "metadata": {},
   "outputs": [
    {
     "data": {
      "text/plain": [
       "država\n",
       "SLO    832\n",
       "ITA     59\n",
       "GBR     30\n",
       "CRO     25\n",
       "POL     19\n",
       "AUT     17\n",
       "HUN     11\n",
       "GER     11\n",
       "CZE      6\n",
       "FRA      6\n",
       "Name: count, dtype: int64"
      ]
     },
     "execution_count": 8,
     "metadata": {},
     "output_type": "execute_result"
    }
   ],
   "source": [
    "podatki_drzava = podatki[\"država\"].value_counts()\n",
    "podatki_drzava.head(10)"
   ]
  },
  {
   "cell_type": "code",
   "execution_count": 9,
   "id": "8b4b8b4e",
   "metadata": {},
   "outputs": [
    {
     "data": {
      "text/plain": [
       "država\n",
       "CAN    2\n",
       "NED    1\n",
       "SUI    1\n",
       "MKD    1\n",
       "HKG    1\n",
       "RUS    1\n",
       "USA    1\n",
       "SRB    1\n",
       "BIH    1\n",
       "LTU    1\n",
       "Name: count, dtype: int64"
      ]
     },
     "execution_count": 9,
     "metadata": {},
     "output_type": "execute_result"
    }
   ],
   "source": [
    "podatki_drzava.tail(10)"
   ]
  },
  {
   "cell_type": "markdown",
   "id": "1017ad7d",
   "metadata": {},
   "source": [
    "Tako je, naša napoved je bila pravilna. Največ je bilo kolesarjev domačinov, več držav pa je imelo le enega predstavnika. Porazdelitev tekmovalcev bomo v nadaljevnju predstavili s tortnim diagramom."
   ]
  },
  {
   "cell_type": "code",
   "execution_count": null,
   "id": "5a1d0a66",
   "metadata": {},
   "outputs": [
    {
     "name": "stdout",
     "output_type": "stream",
     "text": [
      "država\n",
      "SLO       832\n",
      "ITA        59\n",
      "GBR        30\n",
      "CRO        25\n",
      "POL        19\n",
      "AUT        17\n",
      "HUN        11\n",
      "GER        11\n",
      "CZE         6\n",
      "FRA         6\n",
      "Ostalo     27\n",
      "Name: count, dtype: int64\n"
     ]
    },
    {
     "data": {
      "image/png": "[encoded data removed]",
      "text/plain": [
       "<Figure size 640x480 with 1 Axes>"
      ]
     },
     "metadata": {},
     "output_type": "display_data"
    }
   ],
   "source": [
    "podatki_drzava = podatki[\"država\"].value_counts()\n",
    "top_10_drzave = podatki_drzava.head(10)\n",
    "ostalo = podatki_drzava.tail(-10).sum()\n",
    "\n",
    "if ostalo > 0:\n",
    "    top_10_drzave['Ostalo'] = ostalo\n",
    "\n",
    "print(top_10_drzave)\n",
    "\n",
    "top_10_drzave.plot(kind=\"pie\",startangle=90, labels = None, colors=['#1f77b4', '#ff7f0e', '#2ca02c', '#d62728', '#9467bd', \n",
    "        '#8c564b', '#e377c2', '#7f7f7f', '#bcbd22', '#17becf', '#ffbb78'])\n",
    "plt.title(\"Distribucija po državah\")\n",
    "plt.ylabel(\"\")\n",
    "plt.legend(top_10_drzave.index)\n",
    "plt.tight_layout()\n",
    "plt.show()\n"
   ]
  },
  {
   "cell_type": "markdown",
   "id": "5d4ce533",
   "metadata": {},
   "source": [
    "Kot drugo analizo pa si bomo pogledali povprečne rezultate držav. Najprej bomo izpisali tabelo tekmovalcev, njihove države in njihovega rezultata."
   ]
  },
  {
   "cell_type": "code",
   "execution_count": 11,
   "id": "636d1e81",
   "metadata": {},
   "outputs": [
    {
     "data": {
      "text/html": [
       "<div>\n",
       "<style scoped>\n",
       "    .dataframe tbody tr th:only-of-type {\n",
       "        vertical-align: middle;\n",
       "    }\n",
       "\n",
       "    .dataframe tbody tr th {\n",
       "        vertical-align: top;\n",
       "    }\n",
       "\n",
       "    .dataframe thead th {\n",
       "        text-align: right;\n",
       "    }\n",
       "</style>\n",
       "<table border=\"1\" class=\"dataframe\">\n",
       "  <thead>\n",
       "    <tr style=\"text-align: right;\">\n",
       "      <th></th>\n",
       "      <th>oseba</th>\n",
       "      <th>država</th>\n",
       "      <th>rezultat</th>\n",
       "    </tr>\n",
       "  </thead>\n",
       "  <tbody>\n",
       "    <tr>\n",
       "      <th>0</th>\n",
       "      <td>ZANETTI IGOR</td>\n",
       "      <td>ITA</td>\n",
       "      <td>3:34:45.8</td>\n",
       "    </tr>\n",
       "    <tr>\n",
       "      <th>1</th>\n",
       "      <td>POZZETTO FEDERICO</td>\n",
       "      <td>ITA</td>\n",
       "      <td>3:34:46.0</td>\n",
       "    </tr>\n",
       "    <tr>\n",
       "      <th>2</th>\n",
       "      <td>GROŠELJ MATIC</td>\n",
       "      <td>SLO</td>\n",
       "      <td>3:34:46.2</td>\n",
       "    </tr>\n",
       "    <tr>\n",
       "      <th>3</th>\n",
       "      <td>EMERŠIČ MARKO</td>\n",
       "      <td>SLO</td>\n",
       "      <td>3:34:46.6</td>\n",
       "    </tr>\n",
       "    <tr>\n",
       "      <th>4</th>\n",
       "      <td>MIKAC PATRIK</td>\n",
       "      <td>SLO</td>\n",
       "      <td>3:34:46.8</td>\n",
       "    </tr>\n",
       "    <tr>\n",
       "      <th>...</th>\n",
       "      <td>...</td>\n",
       "      <td>...</td>\n",
       "      <td>...</td>\n",
       "    </tr>\n",
       "    <tr>\n",
       "      <th>1038</th>\n",
       "      <td>ŠPRUK JANEZ</td>\n",
       "      <td>SLO</td>\n",
       "      <td>7:01:44.2</td>\n",
       "    </tr>\n",
       "    <tr>\n",
       "      <th>1039</th>\n",
       "      <td>GARTNAR GAŠPER</td>\n",
       "      <td>SLO</td>\n",
       "      <td>7:03:07.8</td>\n",
       "    </tr>\n",
       "    <tr>\n",
       "      <th>1040</th>\n",
       "      <td>FILIPIČ PETER</td>\n",
       "      <td>SLO</td>\n",
       "      <td>7:26:39.1</td>\n",
       "    </tr>\n",
       "    <tr>\n",
       "      <th>1041</th>\n",
       "      <td>PUST ROMAN</td>\n",
       "      <td>SLO</td>\n",
       "      <td>7:26:45.5</td>\n",
       "    </tr>\n",
       "    <tr>\n",
       "      <th>1042</th>\n",
       "      <td>ORHON ECVET</td>\n",
       "      <td>CYP</td>\n",
       "      <td>7:36:32.5</td>\n",
       "    </tr>\n",
       "  </tbody>\n",
       "</table>\n",
       "<p>1043 rows × 3 columns</p>\n",
       "</div>"
      ],
      "text/plain": [
       "                  oseba država   rezultat\n",
       "0          ZANETTI IGOR    ITA  3:34:45.8\n",
       "1     POZZETTO FEDERICO    ITA  3:34:46.0\n",
       "2         GROŠELJ MATIC    SLO  3:34:46.2\n",
       "3         EMERŠIČ MARKO    SLO  3:34:46.6\n",
       "4          MIKAC PATRIK    SLO  3:34:46.8\n",
       "...                 ...    ...        ...\n",
       "1038        ŠPRUK JANEZ    SLO  7:01:44.2\n",
       "1039     GARTNAR GAŠPER    SLO  7:03:07.8\n",
       "1040      FILIPIČ PETER    SLO  7:26:39.1\n",
       "1041         PUST ROMAN    SLO  7:26:45.5\n",
       "1042        ORHON ECVET    CYP  7:36:32.5\n",
       "\n",
       "[1043 rows x 3 columns]"
      ]
     },
     "execution_count": 11,
     "metadata": {},
     "output_type": "execute_result"
    }
   ],
   "source": [
    "podatki[[\"oseba\", \"država\", \"rezultat\"]]"
   ]
  },
  {
   "cell_type": "code",
   "execution_count": 12,
   "id": "e1bc0347",
   "metadata": {},
   "outputs": [],
   "source": [
    "podatki_drzava_sez = podatki[\"država\"]\n",
    "podatki_drzava_sez = podatki.drop(podatki[podatki[\"država\"] == \"&nbsp;\"].index)\n",
    "\n",
    "drzave = podatki_drzava_sez[\"država\"].unique()\n",
    "podatki_drzava_stevilo = podatki_drzava_sez[\"država\"].value_counts()\n"
   ]
  },
  {
   "cell_type": "code",
   "execution_count": 26,
   "id": "1a0db884",
   "metadata": {},
   "outputs": [
    {
     "name": "stdout",
     "output_type": "stream",
     "text": [
      "NED 13700.80\n",
      "SVK 13720.05\n",
      "CZE 13876.03\n",
      "SUI 13905.60\n",
      "POL 14311.65\n",
      "GER 14820.37\n",
      "ITA 15018.10\n",
      "MKD 15030.30\n",
      "TUR 15107.60\n",
      "HKG 15529.60\n",
      "HUN 15572.84\n",
      "BEL 15619.97\n",
      "CRO 15755.92\n",
      "FRA 15855.45\n",
      "ESP 16018.10\n",
      "RUS 16036.20\n",
      "GBR 16395.00\n",
      "EST 16445.95\n",
      "AUT 16481.28\n",
      "SLO 16728.45\n",
      "USA 17510.80\n",
      "SRB 18200.50\n",
      "BIH 18477.00\n",
      "CAN 18942.50\n",
      "LTU 19205.20\n",
      "CYP 19924.20\n"
     ]
    }
   ],
   "source": [
    "drzava_vsota = {}\n",
    "for drzava in drzave:\n",
    "    trenutna_drzava = podatki_drzava_sez[podatki_drzava_sez[\"država\"] == drzava]\n",
    "    povprecje_po_drzavah = sum(trenutna_drzava[\"Sekunde\"]) / podatki_drzava_stevilo[drzava]\n",
    "    drzava_vsota[drzava] = povprecje_po_drzavah\n",
    "drzava_urejene = sorted(drzava_vsota.items(), key=lambda vnos: vnos[1])\n",
    "povprecje_urejeno = []\n",
    "imena_urejeno = []\n",
    "for drzava, cas in drzava_urejene:\n",
    "    povprecje_urejeno.append(cas)\n",
    "    imena_urejeno.append(drzava)\n",
    "    print(drzava, \"{:.2f}\".format(cas))"
   ]
  },
  {
   "cell_type": "markdown",
   "id": "48fcc02b",
   "metadata": {},
   "source": [
    "Dobili smo izpisane države in njihove povprečne čase. Spodaj pa smo te podatke predstavili še s diagramom, ki nam prikaže kako se povprečni časi držav višajo."
   ]
  },
  {
   "cell_type": "code",
   "execution_count": 14,
   "id": "0c259e3a",
   "metadata": {},
   "outputs": [
    {
     "data": {
      "image/png": "[encoded data removed]",
      "text/plain": [
       "<Figure size 640x480 with 1 Axes>"
      ]
     },
     "metadata": {},
     "output_type": "display_data"
    }
   ],
   "source": [
    "plt.bar(range(len(drzava_urejene)),povprecje_urejeno)\n",
    "plt.xticks(range(len(drzava_urejene)),imena_urejeno, rotation = 90)\n",
    "plt.show()"
   ]
  },
  {
   "cell_type": "markdown",
   "id": "b3080c99",
   "metadata": {},
   "source": [
    "Pogledali si bomo tudi, kolikšen procent slovenskih tekmovalcev im klub."
   ]
  },
  {
   "cell_type": "code",
   "execution_count": 15,
   "id": "7af28809",
   "metadata": {},
   "outputs": [],
   "source": [
    "slovenci = podatki.drop(podatki[podatki[\"država\"] != \"SLO\"].index)"
   ]
  },
  {
   "cell_type": "code",
   "execution_count": 16,
   "id": "6f8f6fa6",
   "metadata": {},
   "outputs": [
    {
     "data": {
      "text/html": [
       "<div>\n",
       "<style scoped>\n",
       "    .dataframe tbody tr th:only-of-type {\n",
       "        vertical-align: middle;\n",
       "    }\n",
       "\n",
       "    .dataframe tbody tr th {\n",
       "        vertical-align: top;\n",
       "    }\n",
       "\n",
       "    .dataframe thead th {\n",
       "        text-align: right;\n",
       "    }\n",
       "</style>\n",
       "<table border=\"1\" class=\"dataframe\">\n",
       "  <thead>\n",
       "    <tr style=\"text-align: right;\">\n",
       "      <th></th>\n",
       "      <th>oseba</th>\n",
       "      <th>država</th>\n",
       "      <th>klub</th>\n",
       "    </tr>\n",
       "  </thead>\n",
       "  <tbody>\n",
       "    <tr>\n",
       "      <th>2</th>\n",
       "      <td>GROŠELJ MATIC</td>\n",
       "      <td>SLO</td>\n",
       "      <td>A2U bikes</td>\n",
       "    </tr>\n",
       "    <tr>\n",
       "      <th>3</th>\n",
       "      <td>EMERŠIČ MARKO</td>\n",
       "      <td>SLO</td>\n",
       "      <td>TEAM BTS Company</td>\n",
       "    </tr>\n",
       "    <tr>\n",
       "      <th>4</th>\n",
       "      <td>MIKAC PATRIK</td>\n",
       "      <td>SLO</td>\n",
       "      <td>TUŠ team</td>\n",
       "    </tr>\n",
       "    <tr>\n",
       "      <th>7</th>\n",
       "      <td>MULEC OŽBEJ</td>\n",
       "      <td>SLO</td>\n",
       "      <td>VITALGO.SI</td>\n",
       "    </tr>\n",
       "    <tr>\n",
       "      <th>12</th>\n",
       "      <td>KOVAČIČ MIRAN</td>\n",
       "      <td>SLO</td>\n",
       "      <td>a2u</td>\n",
       "    </tr>\n",
       "    <tr>\n",
       "      <th>...</th>\n",
       "      <td>...</td>\n",
       "      <td>...</td>\n",
       "      <td>...</td>\n",
       "    </tr>\n",
       "    <tr>\n",
       "      <th>1036</th>\n",
       "      <td>POŽAR MILAN</td>\n",
       "      <td>SLO</td>\n",
       "      <td>Rebel riders</td>\n",
       "    </tr>\n",
       "    <tr>\n",
       "      <th>1038</th>\n",
       "      <td>ŠPRUK JANEZ</td>\n",
       "      <td>SLO</td>\n",
       "      <td>VARUH ZDRAVJA</td>\n",
       "    </tr>\n",
       "    <tr>\n",
       "      <th>1039</th>\n",
       "      <td>GARTNAR GAŠPER</td>\n",
       "      <td>SLO</td>\n",
       "      <td>&amp;nbsp;</td>\n",
       "    </tr>\n",
       "    <tr>\n",
       "      <th>1040</th>\n",
       "      <td>FILIPIČ PETER</td>\n",
       "      <td>SLO</td>\n",
       "      <td>&amp;nbsp;</td>\n",
       "    </tr>\n",
       "    <tr>\n",
       "      <th>1041</th>\n",
       "      <td>PUST ROMAN</td>\n",
       "      <td>SLO</td>\n",
       "      <td>&amp;nbsp;</td>\n",
       "    </tr>\n",
       "  </tbody>\n",
       "</table>\n",
       "<p>832 rows × 3 columns</p>\n",
       "</div>"
      ],
      "text/plain": [
       "               oseba država              klub\n",
       "2      GROŠELJ MATIC    SLO         A2U bikes\n",
       "3      EMERŠIČ MARKO    SLO  TEAM BTS Company\n",
       "4       MIKAC PATRIK    SLO          TUŠ team\n",
       "7        MULEC OŽBEJ    SLO        VITALGO.SI\n",
       "12     KOVAČIČ MIRAN    SLO               a2u\n",
       "...              ...    ...               ...\n",
       "1036     POŽAR MILAN    SLO      Rebel riders\n",
       "1038     ŠPRUK JANEZ    SLO     VARUH ZDRAVJA\n",
       "1039  GARTNAR GAŠPER    SLO            &nbsp;\n",
       "1040   FILIPIČ PETER    SLO            &nbsp;\n",
       "1041      PUST ROMAN    SLO            &nbsp;\n",
       "\n",
       "[832 rows x 3 columns]"
      ]
     },
     "execution_count": 16,
     "metadata": {},
     "output_type": "execute_result"
    }
   ],
   "source": [
    "slovenci[[\"oseba\", \"država\", \"klub\"]]"
   ]
  },
  {
   "cell_type": "code",
   "execution_count": 17,
   "id": "9dc04996",
   "metadata": {},
   "outputs": [],
   "source": [
    "slovenci_s_klubom = slovenci.drop(slovenci[slovenci[\"klub\"] == \"&nbsp;\"].index)\n",
    "slovenci_s_klubom = slovenci_s_klubom.drop(slovenci_s_klubom[slovenci_s_klubom[\"klub\"] == \"/\"].index)"
   ]
  },
  {
   "cell_type": "code",
   "execution_count": 18,
   "id": "a88ee821",
   "metadata": {},
   "outputs": [
    {
     "data": {
      "text/html": [
       "<div>\n",
       "<style scoped>\n",
       "    .dataframe tbody tr th:only-of-type {\n",
       "        vertical-align: middle;\n",
       "    }\n",
       "\n",
       "    .dataframe tbody tr th {\n",
       "        vertical-align: top;\n",
       "    }\n",
       "\n",
       "    .dataframe thead th {\n",
       "        text-align: right;\n",
       "    }\n",
       "</style>\n",
       "<table border=\"1\" class=\"dataframe\">\n",
       "  <thead>\n",
       "    <tr style=\"text-align: right;\">\n",
       "      <th></th>\n",
       "      <th>oseba</th>\n",
       "      <th>država</th>\n",
       "      <th>klub</th>\n",
       "    </tr>\n",
       "  </thead>\n",
       "  <tbody>\n",
       "    <tr>\n",
       "      <th>2</th>\n",
       "      <td>GROŠELJ MATIC</td>\n",
       "      <td>SLO</td>\n",
       "      <td>A2U bikes</td>\n",
       "    </tr>\n",
       "    <tr>\n",
       "      <th>3</th>\n",
       "      <td>EMERŠIČ MARKO</td>\n",
       "      <td>SLO</td>\n",
       "      <td>TEAM BTS Company</td>\n",
       "    </tr>\n",
       "    <tr>\n",
       "      <th>4</th>\n",
       "      <td>MIKAC PATRIK</td>\n",
       "      <td>SLO</td>\n",
       "      <td>TUŠ team</td>\n",
       "    </tr>\n",
       "    <tr>\n",
       "      <th>7</th>\n",
       "      <td>MULEC OŽBEJ</td>\n",
       "      <td>SLO</td>\n",
       "      <td>VITALGO.SI</td>\n",
       "    </tr>\n",
       "    <tr>\n",
       "      <th>12</th>\n",
       "      <td>KOVAČIČ MIRAN</td>\n",
       "      <td>SLO</td>\n",
       "      <td>a2u</td>\n",
       "    </tr>\n",
       "    <tr>\n",
       "      <th>...</th>\n",
       "      <td>...</td>\n",
       "      <td>...</td>\n",
       "      <td>...</td>\n",
       "    </tr>\n",
       "    <tr>\n",
       "      <th>1032</th>\n",
       "      <td>PAVLIN SEBASTIJAN</td>\n",
       "      <td>SLO</td>\n",
       "      <td>ŠD Ficki</td>\n",
       "    </tr>\n",
       "    <tr>\n",
       "      <th>1033</th>\n",
       "      <td>BERANEK MATJAŽ</td>\n",
       "      <td>SLO</td>\n",
       "      <td>-</td>\n",
       "    </tr>\n",
       "    <tr>\n",
       "      <th>1034</th>\n",
       "      <td>JARC MATJAŽ</td>\n",
       "      <td>SLO</td>\n",
       "      <td>PGD Vodice</td>\n",
       "    </tr>\n",
       "    <tr>\n",
       "      <th>1036</th>\n",
       "      <td>POŽAR MILAN</td>\n",
       "      <td>SLO</td>\n",
       "      <td>Rebel riders</td>\n",
       "    </tr>\n",
       "    <tr>\n",
       "      <th>1038</th>\n",
       "      <td>ŠPRUK JANEZ</td>\n",
       "      <td>SLO</td>\n",
       "      <td>VARUH ZDRAVJA</td>\n",
       "    </tr>\n",
       "  </tbody>\n",
       "</table>\n",
       "<p>532 rows × 3 columns</p>\n",
       "</div>"
      ],
      "text/plain": [
       "                  oseba država              klub\n",
       "2         GROŠELJ MATIC    SLO         A2U bikes\n",
       "3         EMERŠIČ MARKO    SLO  TEAM BTS Company\n",
       "4          MIKAC PATRIK    SLO          TUŠ team\n",
       "7           MULEC OŽBEJ    SLO        VITALGO.SI\n",
       "12        KOVAČIČ MIRAN    SLO               a2u\n",
       "...                 ...    ...               ...\n",
       "1032  PAVLIN SEBASTIJAN    SLO          ŠD Ficki\n",
       "1033     BERANEK MATJAŽ    SLO                 -\n",
       "1034        JARC MATJAŽ    SLO        PGD Vodice\n",
       "1036        POŽAR MILAN    SLO      Rebel riders\n",
       "1038        ŠPRUK JANEZ    SLO     VARUH ZDRAVJA\n",
       "\n",
       "[532 rows x 3 columns]"
      ]
     },
     "execution_count": 18,
     "metadata": {},
     "output_type": "execute_result"
    }
   ],
   "source": [
    "slovenci_s_klubom[[\"oseba\", \"država\", \"klub\"]]"
   ]
  },
  {
   "cell_type": "code",
   "execution_count": 19,
   "id": "a959797b",
   "metadata": {},
   "outputs": [
    {
     "name": "stdout",
     "output_type": "stream",
     "text": [
      "Klub ima 63.94% Slovencev.\n"
     ]
    }
   ],
   "source": [
    "odstotek_slovencev_s_klubom = len(slovenci_s_klubom)/len(slovenci) * 100\n",
    "print (f'Klub ima {odstotek_slovencev_s_klubom:.2f}% Slovencev.')"
   ]
  },
  {
   "cell_type": "markdown",
   "id": "f2bfab0a",
   "metadata": {},
   "source": [
    "## Analiza glede na klub\n",
    "Tekmovalci so lahko povedali tudi za kateri klub tekmujejo. Pri tej analizi bomo najprej odstranli vse, ki ne zastopajo nobenega kluba. Potem pa bomo iz seznama vseh klubov odstranili še tiste, ki imajo manj kot tri tekmovalce ter nato pogledali seznam klubov, ki še ostanejo."
   ]
  },
  {
   "cell_type": "code",
   "execution_count": 20,
   "id": "451b748d",
   "metadata": {},
   "outputs": [],
   "source": [
    "podatki_klub = podatki.drop(podatki[podatki[\"klub\"] == \"&nbsp;\"].index)\n",
    "podatki_klub = podatki_klub.drop(podatki_klub[podatki_klub[\"klub\"] == \"/\"].index)\n",
    "\n",
    "klubi = podatki_klub[\"klub\"].unique()\n",
    "for klub in klubi:\n",
    "    if podatki[\"klub\"].value_counts()[klub] < 3:\n",
    "        podatki_klub = podatki_klub.drop(podatki_klub[podatki_klub[\"klub\"] == klub].index)\n"
   ]
  },
  {
   "cell_type": "code",
   "execution_count": 21,
   "id": "cdc1748b",
   "metadata": {},
   "outputs": [
    {
     "name": "stdout",
     "output_type": "stream",
     "text": [
      "klub\n",
      "KOLEKTOR                         34\n",
      "London Dynamo                    30\n",
      "ŠD GRMADA                        15\n",
      "KD Rog                           11\n",
      "VirtuSlo 4Endurance              11\n",
      "Wolt                              9\n",
      "[DRI:m] tim                       9\n",
      "ŠKD SUPER POTENCIAL               9\n",
      "Novak M                           8\n",
      "Hella Saturnus                    8\n",
      "UL Medicinska fakulteta           8\n",
      "KD E.T. Jurovski Dol              7\n",
      "RODEX MODRI DIRKAČI               7\n",
      "MM Količevo                       7\n",
      "ŠKD Energetika                    7\n",
      "KK Rogla                          6\n",
      "TUŠ team                          6\n",
      "Kolesarski klub Postojna          6\n",
      "Športno društvo ZT                6\n",
      "DANIELI SPORTING CLUB             6\n",
      "Hydro-Hit Team Artichokes         6\n",
      "ŠD Koloka                         6\n",
      "SIBO Group                        5\n",
      "WALBET Team                       5\n",
      "KD ROG                            5\n",
      "LTH aktiv                         5\n",
      "GOSTOL TST                        5\n",
      "DOMEL                             5\n",
      "HIDRIA                            5\n",
      "KD BRDA DOBROVO                   5\n",
      "VITALGO.SI                        4\n",
      "BAMBI                             4\n",
      "ŠD DARS                           4\n",
      "Lesnina                           4\n",
      "KD Sloga 1902 Idrija              4\n",
      "NEW LIMITS MONTURANESE            4\n",
      "Škola biciklizma Zagreb           4\n",
      "ŠD Luka Koper                     4\n",
      "RLS in motion                     4\n",
      "Lek d.d. - Polni življenja        4\n",
      "mebloJOGI PRO-CONCRETE            3\n",
      "Team Granfondo Slovenija          3\n",
      "Fordulat KK                       3\n",
      "BAM.BI                            3\n",
      "The Bonk Squad                    3\n",
      "Medicus                           3\n",
      "Team Mošnje                       3\n",
      "KD Belaunce                       3\n",
      "KOVINOPLASTIKA LOŽ                3\n",
      "Oblak aktivna oblačila d.o.o.     3\n",
      "ŠD Polet                          3\n",
      "VARUH ZDRAVJA                     3\n",
      "Športno društvo C_G               3\n",
      "Name: count, dtype: int64\n"
     ]
    }
   ],
   "source": [
    "print(podatki_klub[\"klub\"].value_counts())"
   ]
  },
  {
   "cell_type": "markdown",
   "id": "dd327c7f",
   "metadata": {},
   "source": [
    "Torej sedaj bomo med klubi, ki imajo vsaj tri tekmovalce poiskali najhitrejšega, glede na njihove prve tri tekmovalce. Pri vsakem klubu bomo sešteli čase prvih treh in dobili najhitrejši klub."
   ]
  },
  {
   "cell_type": "code",
   "execution_count": 22,
   "id": "2533ee88",
   "metadata": {},
   "outputs": [
    {
     "name": "stdout",
     "output_type": "stream",
     "text": [
      "VITALGO.SI 40082.5\n",
      "TUŠ team 40156.4\n",
      "NEW LIMITS MONTURANESE 40445.2\n",
      "Team Granfondo Slovenija 41030.8\n",
      "Škola biciklizma Zagreb 41237.3\n",
      "KD Sloga 1902 Idrija 41257.3\n",
      "The Bonk Squad 41483.9\n",
      "London Dynamo 41491.5\n",
      "WALBET Team 42051.8\n",
      "VirtuSlo 4Endurance 42087.3\n"
     ]
    }
   ],
   "source": [
    "klubi = podatki_klub[\"klub\"].unique()\n",
    "klub_vsota = {}\n",
    "for klub in klubi:\n",
    "    prvi_trije = podatki_klub[podatki_klub[\"klub\"] == klub][:3]\n",
    "    vsota_sekund_prvih_treh = sum(prvi_trije[\"Sekunde\"])\n",
    "    klub_vsota[klub] = vsota_sekund_prvih_treh\n",
    "\n",
    "for klub, cas in sorted(klub_vsota.items(), key=lambda vnos: vnos[1])[:10]:\n",
    "    print(klub,cas)"
   ]
  },
  {
   "cell_type": "markdown",
   "id": "2965ba64",
   "metadata": {},
   "source": [
    "Najhitrejši klub je bil VITALGO.SI, sledi pa mu TUŠ team. "
   ]
  },
  {
   "cell_type": "markdown",
   "id": "79e1b874",
   "metadata": {},
   "source": [
    "Poglejmo še kateri klubi imajo več različnih držav."
   ]
  },
  {
   "cell_type": "code",
   "execution_count": 23,
   "id": "813812a8",
   "metadata": {},
   "outputs": [
    {
     "name": "stdout",
     "output_type": "stream",
     "text": [
      "Team Granfondo Slovenija 2\n",
      "Škola biciklizma Zagreb 2\n",
      "London Dynamo 3\n",
      "Lesnina 2\n"
     ]
    }
   ],
   "source": [
    "podatki_klub = podatki.drop(podatki[podatki[\"klub\"] == \"&nbsp;\"].index)\n",
    "podatki_klub = podatki_klub.drop(podatki_klub[podatki_klub[\"klub\"] == \"/\"].index)\n",
    "klubi = podatki_klub[\"klub\"].unique()\n",
    "for klub in klubi:\n",
    "    trenutni_klub = podatki_klub[podatki_klub[\"klub\"] == klub]\n",
    "    stevilo_drzav = len(trenutni_klub[\"država\"].unique())\n",
    "    if stevilo_drzav > 1:\n",
    "        print (klub,stevilo_drzav)\n"
   ]
  },
  {
   "cell_type": "markdown",
   "id": "c9fc4b37",
   "metadata": {},
   "source": [
    "## Zaključek\n",
    "Ta analiza poduja pregled sodelujočih moških na maratonu franja 2025. Analiza nam pove nekaj o državah, klubih in rezultatih tekmovalcev. "
   ]
  },
  {
   "cell_type": "markdown",
   "id": "27f43173",
   "metadata": {},
   "source": []
  }
 ],
 "metadata": {
  "kernelspec": {
   "display_name": "Python 3",
   "language": "python",
   "name": "python3"
  },
  "language_info": {
   "codemirror_mode": {
    "name": "ipython",
    "version": 3
   },
   "file_extension": ".py",
   "mimetype": "text/x-python",
   "name": "python",
   "nbconvert_exporter": "python",
   "pygments_lexer": "ipython3",
   "version": "3.13.2"
  }
 },
 "nbformat": 4,
 "nbformat_minor": 5
}
